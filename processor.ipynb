{
 "cells": [
  {
   "cell_type": "code",
   "execution_count": 1,
   "id": "adaa522f-7ce0-40cc-a496-7ea239d9afa5",
   "metadata": {},
   "outputs": [],
   "source": [
    "import xlsxwriter\n",
    "import pandas as pd\n",
    "import openpyxl\n",
    "import re"
   ]
  },
  {
   "cell_type": "code",
   "execution_count": 2,
   "id": "2fcc86eb-ad62-4936-bec8-745c9bb03f10",
   "metadata": {},
   "outputs": [],
   "source": [
    "raw_data_file = \"data/raw/Google 3.0.xlsx\""
   ]
  },
  {
   "cell_type": "code",
   "execution_count": 3,
   "id": "8df08957-f589-4543-850f-9dd196d32cdb",
   "metadata": {},
   "outputs": [],
   "source": [
    "raw_df = pd.read_excel(open(raw_data_file, 'rb'), sheet_name=\"6 month\")\n",
    "taf_df = raw_df"
   ]
  },
  {
   "cell_type": "code",
   "execution_count": 4,
   "id": "e505682d-bec1-4d65-bae5-fe327de0c9ea",
   "metadata": {},
   "outputs": [],
   "source": [
    "def split_tags(tag_str):\n",
    "    tag_str = re.sub(r\"([a-z])([A-Z])\", r\"\\1@\\2\", tag_str)\n",
    "    tag_str = tag_str.replace(\")\", \")@\")\n",
    "    return tag_str.split(\"@\")\n"
   ]
  },
  {
   "cell_type": "code",
   "execution_count": 5,
   "id": "8a0d7488-10dd-4350-9c98-4f5524a5368c",
   "metadata": {},
   "outputs": [],
   "source": [
    "taf_df[\"processed_tags\"] = taf_df[\"Tags\"].apply(lambda row: split_tags(row))\n",
    "all_tags = set(t for tags in taf_df[\"processed_tags\"] for t in tags)"
   ]
  },
  {
   "cell_type": "code",
   "execution_count": 6,
   "id": "2fa18640-d138-4c79-9e26-7820552f2ebe",
   "metadata": {},
   "outputs": [],
   "source": [
    "# all_tags"
   ]
  },
  {
   "cell_type": "code",
   "execution_count": 7,
   "id": "3d8a618f-8275-4127-82f6-8c8505271b94",
   "metadata": {},
   "outputs": [
    {
     "name": "stderr",
     "output_type": "stream",
     "text": [
      "/var/folders/w_/fx6_90ns0933s65jzp2cx5zc0000gn/T/ipykernel_56702/77425423.py:2: DeprecationWarning: Call to deprecated function get_sheet_by_name (Use wb[sheetname]).\n",
      "  ws = wb.get_sheet_by_name('6 month')\n"
     ]
    }
   ],
   "source": [
    "wb = openpyxl.load_workbook(raw_data_file)\n",
    "ws = wb.get_sheet_by_name('6 month')"
   ]
  },
  {
   "cell_type": "code",
   "execution_count": 8,
   "id": "cbfdbe75-4194-4d49-b75b-ce5de0d3977b",
   "metadata": {},
   "outputs": [],
   "source": [
    "ws.cell(row=2, column=3).hyperlink.display"
   ]
  },
  {
   "cell_type": "code",
   "execution_count": 9,
   "id": "ec18c69d-e919-4199-959d-1a0f0e79e0d3",
   "metadata": {},
   "outputs": [],
   "source": [
    "def separate_tags_in_ws(wsheet, row_tags):\n",
    "    for i, (key, *values) in enumerate(wsheet.iter_rows()):\n",
    "        if i > 0 and i - 1 < len(row_tags):\n",
    "            values[1].value = '; '.join(row_tags.iloc[i - 1])\n",
    "    return wsheet"
   ]
  },
  {
   "cell_type": "code",
   "execution_count": 10,
   "id": "e1401e61-6c03-49cd-a6da-ed06dca94b4c",
   "metadata": {},
   "outputs": [],
   "source": [
    "new_ws = separate_tags_in_ws(ws, taf_df[\"processed_tags\"]) #.cell(row=2, column=2).hyperlink.target"
   ]
  },
  {
   "cell_type": "code",
   "execution_count": null,
   "id": "33178a2f-41b8-4b6d-a8e5-d13b1533db4b",
   "metadata": {},
   "outputs": [],
   "source": []
  },
  {
   "cell_type": "code",
   "execution_count": 11,
   "id": "56bf4d47-6489-45f1-afa9-9adb2c942908",
   "metadata": {},
   "outputs": [],
   "source": [
    "# taf_df"
   ]
  },
  {
   "cell_type": "code",
   "execution_count": 12,
   "id": "ac1603f7-9260-4e0d-a1f5-73571ed77fba",
   "metadata": {},
   "outputs": [],
   "source": [
    "tab_tags = {\n",
    "    'Array': 'Array',\n",
    "    'Backtracking': 'Backtracking_Recursion',\n",
    "    'Binary Indexed Tree': 'Binary Indexed Tree',\n",
    "    'Binary Search': 'Binary Search',\n",
    "    'Binary Search Tree': 'Tree',\n",
    "    'Binary Tree': 'Tree',\n",
    "    'Bit Manipulation': 'Other',\n",
    "    'Bitmask': 'Other',\n",
    "    'Brainteaser': 'Other',\n",
    "    'Breadth-First Search': 'BFS',\n",
    "    'Bucket Sort': 'Other',\n",
    "    'Combinatorics': 'Other',\n",
    "    'Counting': 'Other',\n",
    "    'Data Stream': 'Other',\n",
    "    'Database': 'Other',\n",
    "    'Depth-First Search': 'DFS',\n",
    "    'Design': 'Design',\n",
    "    'Divide and Conquer': 'Divide and Conquer',\n",
    "    'Doubly-Linked List': 'Linked List',\n",
    "    'Dynamic Programming': 'DP',\n",
    "    'Enumeration': 'Other',\n",
    "    'Eulerian Circuit': 'Other',\n",
    "    'Game Theory': 'Other',\n",
    "    'Geometry': 'Other',\n",
    "    'Graph': 'Graph',\n",
    "    'Greedy': 'Other',\n",
    "    'Hash Function': 'Hash Table',\n",
    "    'Hash Table': 'Hash Table',\n",
    "    'Heap (Priority Queue)': 'Heap',\n",
    "    'Interactive': 'Other',\n",
    "    'Iterator': 'Other',\n",
    "    'Line Sweep': 'Segment Tree',\n",
    "    'Linked List': 'Linked List',\n",
    "    'Math': 'Other',\n",
    "    'Matrix': 'Other',\n",
    "    'Memoization': 'DP',\n",
    "    'Merge Sort': 'Sorting',\n",
    "    'Monotonic Queue': 'Stack_Queue',\n",
    "    'Monotonic Stack': 'Stack_Queue',\n",
    "    'Ordered Set': 'Hash Table',\n",
    "    'Prefix Sum': 'Hash Table',\n",
    "    'Probability and Statistics': 'Other',\n",
    "    'Queue': 'Stack_Queue',\n",
    "    'Quickselect': 'Sorting',\n",
    "    'Randomized': 'Other',\n",
    "    'Recursion': 'Backtracking_Recursion',\n",
    "    'Rolling Hash': 'Hash Table',\n",
    "    'Segment Tree': 'Segment Tree',\n",
    "    'Shortest Path': 'Other',\n",
    "    'Simulation': 'Other',\n",
    "    'Sliding Window': 'Sliding Window',\n",
    "    'Sorting': 'Sorting',\n",
    "    'Stack': 'Stack_Queue',\n",
    "    'String': 'String',\n",
    "    'String Matching': 'String',\n",
    "    'Suffix Array': 'Other',\n",
    "    'Topological Sort': 'Topological Sort',\n",
    "    'Tree': 'Tree',\n",
    "    'Trie': 'Trie',\n",
    "    'Two Pointers': 'Two Pointers',\n",
    "    'Union Find': 'Union Find',\n",
    "}"
   ]
  },
  {
   "cell_type": "code",
   "execution_count": 13,
   "id": "bb7afcc7-90a1-4070-9d54-79dca28c563d",
   "metadata": {},
   "outputs": [],
   "source": [
    "ordering = [\n",
    "    'DP',\n",
    "    'Binary Search',\n",
    "    'Heap',\n",
    "    'DFS',\n",
    "    'BFS',\n",
    "    'Hash Table',\n",
    "    'Backtracking_Recursion',\n",
    "    'Two Pointers',\n",
    "    'Topological Sort',\n",
    "    'Trie',\n",
    "    'Stack_Queue',\n",
    "    'Linked List',\n",
    "    'Union Find',\n",
    "    'Sliding Window',\n",
    "    'Divide and Conquer',\n",
    "    'Graph',\n",
    "    'Tree',\n",
    "    'Binary Indexed Tree',\n",
    "    'Design',\n",
    "    'Array',\n",
    "    'Segment Tree',\n",
    "    'Sorting',\n",
    "    'String',\n",
    "    'Other',\n",
    "]\n",
    "\n",
    "ordering_map = {tag: i for i, tag in enumerate(ordering)}"
   ]
  },
  {
   "cell_type": "code",
   "execution_count": null,
   "id": "8087bb6b-8d46-4ac6-8217-860d934f3b0c",
   "metadata": {},
   "outputs": [],
   "source": []
  },
  {
   "cell_type": "code",
   "execution_count": null,
   "id": "71d82612-9490-44e4-ac90-8f4dc78ed732",
   "metadata": {},
   "outputs": [],
   "source": []
  },
  {
   "cell_type": "code",
   "execution_count": 14,
   "id": "a2309e43-4793-49ca-9a4a-a5b7b5a76d2a",
   "metadata": {},
   "outputs": [],
   "source": [
    "def create_new_sheet_based_on_tags(wbook):\n",
    "    all_tabs_names = set(tab_tags.values())\n",
    "    for tab_name in all_tabs_names:\n",
    "        wbook.create_sheet(tab_name)\n",
    "    # return wbook"
   ]
  },
  {
   "cell_type": "code",
   "execution_count": 15,
   "id": "390f5ea4-09f1-48db-a395-60da658a69ac",
   "metadata": {},
   "outputs": [],
   "source": [
    "create_new_sheet_based_on_tags(wb)"
   ]
  },
  {
   "cell_type": "code",
   "execution_count": 16,
   "id": "9048b929-9d93-41d7-b99b-dc675281881b",
   "metadata": {},
   "outputs": [
    {
     "data": {
      "text/plain": [
       "(25, 24)"
      ]
     },
     "execution_count": 16,
     "metadata": {},
     "output_type": "execute_result"
    }
   ],
   "source": [
    "len(wb.sheetnames), len(set(tab_tags.values()))"
   ]
  },
  {
   "cell_type": "code",
   "execution_count": 17,
   "id": "f696e438-4640-4a1d-96e6-6effd2331a68",
   "metadata": {},
   "outputs": [],
   "source": [
    "from copy import copy \n",
    "def distribute_to_corresponding_tabs(ws, wb, row_tags):\n",
    "    for i, row in enumerate(ws):\n",
    "        if i > 0 and i - 1 < len(row_tags):\n",
    "            sorted_tags = sorted(map(lambda x: tab_tags.get(x, ''), row_tags.iloc[i - 1]), key=lambda x: ordering_map.get(x, 24))\n",
    "            top_tag = sorted_tags[0]\n",
    "            sheet = wb[top_tag]\n",
    "            \n",
    "            selected_row = [cell.value for cell in row]\n",
    "            sheet.append(selected_row)\n",
    "            for j, cell in enumerate(row):\n",
    "                col = j+1\n",
    "                new_cell = sheet.cell(row=sheet.max_row, column=col)\n",
    "                if cell.has_style:\n",
    "                    new_cell.hyperlink = copy(cell.hyperlink)\n",
    "                    new_cell.font = copy(cell.font)\n",
    "                    new_cell.border = copy(cell.border)\n",
    "                    new_cell.fill = copy(cell.fill)\n",
    "                    new_cell.number_format = copy(cell.number_format)\n",
    "                    new_cell.protection = copy(cell.protection)\n",
    "                    new_cell.alignment = copy(cell.alignment)\n",
    "                    \n",
    "    for sheet_name in list(wb.sheetnames)[1:]:\n",
    "        for col, value in wb['6 month'].column_dimensions.items():\n",
    "            wb[sheet_name].column_dimensions[col] = value\n",
    "\n",
    "distribute_to_corresponding_tabs(ws, wb, taf_df[\"processed_tags\"])"
   ]
  },
  {
   "cell_type": "code",
   "execution_count": 18,
   "id": "fa2bf797-2474-4be3-8f24-b327917e12cb",
   "metadata": {},
   "outputs": [],
   "source": [
    "# wb.sheetnames"
   ]
  },
  {
   "cell_type": "code",
   "execution_count": 20,
   "id": "ab04e103-83fa-421d-8f6f-bc7a1a39af91",
   "metadata": {},
   "outputs": [],
   "source": [
    "wb.save(\"data/processed/Google 3.0_12222021.xlsx\")"
   ]
  },
  {
   "cell_type": "code",
   "execution_count": null,
   "id": "8bebcbbf-b3c1-4a95-ad53-8563f7df8f16",
   "metadata": {},
   "outputs": [],
   "source": []
  }
 ],
 "metadata": {
  "kernelspec": {
   "display_name": "Python 3 (ipykernel)",
   "language": "python",
   "name": "python3"
  },
  "language_info": {
   "codemirror_mode": {
    "name": "ipython",
    "version": 3
   },
   "file_extension": ".py",
   "mimetype": "text/x-python",
   "name": "python",
   "nbconvert_exporter": "python",
   "pygments_lexer": "ipython3",
   "version": "3.8.12"
  }
 },
 "nbformat": 4,
 "nbformat_minor": 5
}
